{
 "cells": [
  {
   "cell_type": "markdown",
   "metadata": {},
   "source": [
    "## Bank Term Deposit Acceptance forecasting"
   ]
  },
  {
   "cell_type": "markdown",
   "metadata": {},
   "source": [
    "Obiettivo di questo assignment è la valutazione delle competenze tecniche del candidato e la sua modalità di approccio ad un problema di Data Science. Nello specifico è richiesto di sviluppare un modello predittivo in grado di indicare se un cliente intercettato da una campagna di marketing da parte di una banca decide di sottoscrivere o meno un deposito bancario a termine (bank term deposit).\n",
    "\n",
    "#### Dataset: ####\n",
    "\n",
    "All'interno della cartella **data**  viene fornito il file **bank-dataset.csv** che contiene le campagne marketing telefoniche effettuate da una banca per proporre l'acquisto del prodotto bancario.\n",
    "I dettagli del dataset sono forniti all'interno del file: **bank-names.txt**.\n",
    "La variabile target che indica se il cliente accetta o meno la sottoscrizione del deposito bancario è contenuta nel medesimo file con field name \"y\".\n",
    "\n",
    "#### Assignement: ####\n",
    "\n",
    "Richiesta di questo assignment è la costruzione di un modello predittivo con performance soddisfacenti per il candidato dando evidenza di tutti gli step tipici che dovrebbero essere affrontati in un progetto di Data Science: dalla pulizia e preparazione del dato fino al testing delle performance del modello costruito.\n",
    "\n",
    "Il notebook svolto dovrà essere opportunamente commentato e dovrà essere consegnato tramite condivisione di un repository github personale accessibile che ne permetta la riproduzione."
   ]
  },
  {
   "cell_type": "code",
   "execution_count": 1,
   "id": "9affd11b",
   "metadata": {},
   "outputs": [],
   "source": [
    "#import tensorflow as tf\n",
    "import pandas as pd\n",
    "import pandas_profiling\n",
    "import numpy as np\n",
    "import yaml\n",
    "from datetime import datetime\n",
    "from sklearn.model_selection import train_test_split, StratifiedKFold, cross_validate\n",
    "from sklearn.utils import resample\n",
    "from sklearn.metrics import classification_report, confusion_matrix, roc_auc_score, roc_curve, RocCurveDisplay, SCORERS\n",
    "#from focal_loss import BinaryFocalLoss\n",
    "from typing import Tuple, Union\n",
    "\n",
    "import seaborn as sns\n",
    "from matplotlib import pyplot as plt\n",
    "from xgboost import XGBClassifier, XGBRegressor\n",
    "\n",
    "from ray import tune\n",
    "from xgboost_ray import RayDMatrix, RayParams, train"
   ]
  },
  {
   "cell_type": "markdown",
   "id": "620a5f41",
   "metadata": {},
   "source": [
    "## Data Loader\n",
    "The data are loaded and parsed from the .csv file and store into a tf.data object\n",
    "\n"
   ]
  },
  {
   "cell_type": "code",
   "execution_count": 2,
   "id": "a58d9627",
   "metadata": {},
   "outputs": [],
   "source": [
    "def load_df(data_path:str='data/bank-dataset.csv', features_path:str='data/features.yaml', raw:bool=False, debug:bool=False) -> Tuple[pd.DataFrame, np.array, dict]:\n",
    "    \"\"\"\n",
    "    Load the data.csv as pandas DataFrame and clean the dataset\n",
    "\n",
    "    Args:\n",
    "        data_path (str, optional): relative path to data.csv. Defaults to 'data/bank-dataset.csv'.\n",
    "        features_path (str, optional): relative path to feature specs. Defaults to 'data/features.yaml'.\n",
    "        raw (bool, optional): skip the cleaning phase. Defaults to False.bit_length.\n",
    "        debug (bool, optional): informative print. Defaults to False.\n",
    "\n",
    "    Returns:\n",
    "        pd.DataFrame: loaded and cleaned dataset\n",
    "        dict: loaded features specs\n",
    "    \"\"\"\n",
    "    \n",
    "    df = pd.read_csv(data_path)\n",
    "    features = yaml.load(open(features_path, 'r'), Loader=yaml.SafeLoader)\n",
    "    if raw: df, features\n",
    "    n_samples = df.shape[0]\n",
    "    n_pos = df.y.value_counts()['yes']\n",
    "\n",
    "    # handle the empty cells\n",
    "    df.loc[df.contact.isnull(), 'contact'] = 'unknown'\n",
    "    df.loc[df.poutcome.isnull(), 'poutcome'] = 'unknown'\n",
    "    df.loc[df.duration.isnull(), 'duration'] = -1.0\n",
    "    df = df.dropna(axis=0, how='any')\n",
    "\n",
    "    for feat, specs in features.items():\n",
    "        \n",
    "        # remove samples with outliers numerical values\n",
    "        if specs['type'] == 'numerical':\n",
    "            if 'max' in specs and specs['max'] is not None:\n",
    "                max_val = specs['max']\n",
    "                if max_val < 1: max_val = df[feat].quantile(max_val)\n",
    "                df = df.drop(df[df[feat] > max_val].index)\n",
    "        \n",
    "        # set string value to lowercase\n",
    "        elif specs['type'] in ['ordinal', 'categorical']:\n",
    "            df[feat] = df[feat].map(lambda x: x.lower())\n",
    "    \n",
    "    # reformat marital status\n",
    "    df.loc[df.marital == 'divrcd', 'marital'] = 'divorced'\n",
    "    df.loc[df.marital == 's', 'marital'] = 'single'\n",
    "    df.loc[df.marital == 'singl', 'marital'] = 'single'\n",
    "    \n",
    "    # make the output binary\n",
    "    #df.y = np.where(df.y=='yes', 1, 0)\n",
    "    \n",
    "    if debug: \n",
    "        print(f\"Dropped {n_samples-df.shape[0]} ({100*(n_samples-df.shape[0])/n_samples:.1f}%) samples\")\n",
    "        print(f\"Dropped {n_pos-df.y.value_counts()['yes']} ({100*(n_pos-df.y.value_counts()['yes'])/n_pos:.1f}%) positive samples\")\n",
    "    return df, features"
   ]
  },
  {
   "cell_type": "code",
   "execution_count": 3,
   "id": "b6c752bb",
   "metadata": {},
   "outputs": [],
   "source": [
    "def midsampling(df:pd.DataFrame, debug:bool=False) -> pd.DataFrame:\n",
    "    \"\"\"_summary_\n",
    "\n",
    "    Args:\n",
    "        df (pd.DataFrame): dataset loaded as pandas Dataframe. \n",
    "        debug (bool, optional): informative print. Defaults to False.\n",
    "\n",
    "    Returns:\n",
    "        pd.DataFrame: resampled DataFrame.\n",
    "    \"\"\"\n",
    "    info = \"\"\n",
    "    # split the data into different classes\n",
    "    df0 = df[df.y==0]\n",
    "    df1 = df[df.y==1]\n",
    "    info += f\"Unbalance ds (no:{df0.shape[0]}, yes:{df1.shape[0]}) → \"\n",
    "    # resample each class\n",
    "    df0 = resample(df0, n_samples=df.shape[0]//2)\n",
    "    df1 = resample(df1, n_samples=df.shape[0]//2)\n",
    "    info += f\"Resampled ds (no:{df0.shape[0]}, yes:{df1.shape[0]})\"\n",
    "    # merge the resampled classes\n",
    "    df = pd.concat([df0, df1])\n",
    "    if debug: print(info)\n",
    "    return df"
   ]
  },
  {
   "cell_type": "code",
   "execution_count": 4,
   "id": "31559cf9",
   "metadata": {},
   "outputs": [],
   "source": [
    "def get_train_test_dataset(df:pd.DataFrame, test_size:Union[int, float]=.2, as_numpy:bool=False, debug:bool=False):\n",
    "    \"\"\"\n",
    "    Take the leaded data and split into two independent sets.\n",
    "\n",
    "    Args:\n",
    "        df (pd.DataFrame): dataset loaded as pandas Dataframe. \n",
    "        test_size (int|float, optional): \n",
    "            If <1 portion of dataset to use as test, \n",
    "            otherwise the number of samples. Defaults to 0.2.\n",
    "        as_numpy (bool, optional): return arrays instead of dataset\n",
    "        debug (bool, optional): informative print. Defaults to False.\n",
    "\n",
    "    Returns:\n",
    "        list(tf.data.Dataset): train and test dataset\n",
    "        list(np.array): train/test features/labels arrays\n",
    "    \"\"\"\n",
    "    \n",
    "    x_train, x_test, y_train, y_test = train_test_split(df.drop(columns='y'), df.y, test_size=test_size, stratify=df.y, random_state=RND_SEED)\n",
    "    if debug: print(f\"Train samples: {x_train.shape[0]}, Test samples: {x_test.shape[0]}\")\n",
    "    \n",
    "    # make feature dataframe a dict\n",
    "    x_train = {name:np.array(values) for name, values in x_train.items()}\n",
    "    x_test = {name:np.array(values) for name, values in x_test.items()}\n",
    "    # make label datafram a binary array\n",
    "    y_train = np.array(y_train)\n",
    "    y_test = np.array(y_test)\n",
    "    \n",
    "    if as_numpy:\n",
    "        return x_train, x_test, y_train, y_test\n",
    "    train_ds = tf.data.Dataset.from_tensor_slices((x_train, y_train))\n",
    "    test_ds = tf.data.Dataset.from_tensor_slices((x_test, y_test))\n",
    "    \n",
    "    return train_ds, test_ds\n",
    "    "
   ]
  },
  {
   "cell_type": "code",
   "execution_count": null,
   "id": "f153b1ed",
   "metadata": {},
   "outputs": [],
   "source": [
    "### Export pandas report to study the data distribution\n",
    "df_feature, df_label, features = load_df()\n",
    "df_profile = df.profile_report(minimal=True)\n",
    "df_profile.to_file(output_file='data/report_refactor.html')"
   ]
  },
  {
   "cell_type": "code",
   "execution_count": null,
   "id": "b24076ee",
   "metadata": {},
   "outputs": [],
   "source": [
    "df, features = load_df(raw=False)\n",
    "df.loc[df.y=='no', 'y'] = 0\n",
    "df.loc[df.y=='yes', 'y'] = 1\n",
    "\n",
    "fig, axarr = plt.subplots(2, 2, figsize=(20, 12))\n",
    "sns.histplot(x=df['age'], hue=df['y'], multiple=\"dodge\", stat='density', shrink=0.8, common_norm=False, ax=axarr[0][0])\n",
    "sns.histplot(x=df['job'], hue=df['y'], multiple=\"dodge\", stat='density', shrink=0.8, common_norm=False, ax=axarr[0][1])\n",
    "sns.histplot(x=df['marital'], hue=df['y'], multiple=\"dodge\", stat='density', shrink=0.8, common_norm=False, ax=axarr[1][0])\n",
    "sns.histplot(x=df['education'], hue=df['y'], multiple=\"dodge\", stat='density', shrink=0.8, common_norm=False, ax=axarr[1][1])\n",
    "\n",
    "#sns.countplot(x='age', hue='y',data=df, ax=axarr[0][0])\n",
    "#sns.countplot(x='job', hue='y',data=df, ax=axarr[0][1])\n",
    "#sns.countplot(x='marital', hue='y',data=df, ax=axarr[1][0])\n",
    "#sns.countplot(x='education', hue='y',data=df, ax=axarr[1][1])"
   ]
  },
  {
   "cell_type": "code",
   "execution_count": null,
   "id": "d8ba4832",
   "metadata": {},
   "outputs": [],
   "source": [
    "df, features = load_df(raw=False)\n",
    "df.loc[df.y=='no', 'y'] = 0\n",
    "df.loc[df.y=='yes', 'y'] = 1\n",
    "'''for feat, info in features.items():\n",
    "    if info['type'] != 'numerical' and feat != 'y':\n",
    "        df = df.drop(columns=feat)'''\n",
    "\n",
    "fig, axarr = plt.subplots(2, 2, figsize=(20, 12))\n",
    "sns.boxplot(y='age', x='marital', hue='y',data=df, ax=axarr[0][0])\n",
    "sns.violinplot(data=df, x=\"marital\", y=\"age\", hue=\"y\",\n",
    "               split=True, inner=\"quart\", linewidth=1, ax=axarr[1][0])"
   ]
  },
  {
   "cell_type": "markdown",
   "id": "0ae8bdea",
   "metadata": {},
   "source": [
    "## Model\n",
    "\n",
    "The model is composed by 2 main parts:\n",
    "\n",
    "#### **Preprocessing model**\n",
    "\n",
    "Take as input a dictionary with the raw data (string and integer values) and return a float tensor that fit the predictive model.\n",
    "       \n",
    "The features are processed as followed:\n",
    "- **Numerifcal** features are normalized between (0, 1)\n",
    "- **Ordinal Categorical** features are mapped as incremental integer\n",
    "- **Categorical** features are One-Hot encoded\n",
    " \n",
    "#### **Predictive model**\n",
    "\n",
    "Take as input the encoded tensor and return the prediction"
   ]
  },
  {
   "cell_type": "code",
   "execution_count": 4,
   "id": "43a51c05",
   "metadata": {},
   "outputs": [],
   "source": [
    "def get_input_spec(df:pd.DataFrame):\n",
    "    \"\"\"\n",
    "    Create a dict with the shape and type of each feature, \n",
    "    required by the tf.Model initialization\n",
    "\n",
    "    Args:\n",
    "        df (pd.DataFrame): dataset loaded aspandas DataFrame\n",
    "\n",
    "    Returns:\n",
    "        dict: dict with shape and type for each feature\n",
    "    \"\"\"\n",
    "\n",
    "    inputs = {}\n",
    "    _df = df.drop(columns='y') if 'y' in df.columns else df\n",
    "    for name, column in _df.items():\n",
    "        dtype = column.dtype\n",
    "        if dtype == object:\n",
    "            dtype = tf.string\n",
    "        else:\n",
    "            dtype = tf.float32\n",
    "        inputs[name] = tf.keras.Input(shape=(1,), name=name, dtype=dtype)\n",
    "    return inputs"
   ]
  },
  {
   "cell_type": "code",
   "execution_count": 5,
   "id": "75ce5033",
   "metadata": {},
   "outputs": [],
   "source": [
    "def preprocess_data(df, features):\n",
    "    for name, value in features.items():\n",
    "        # map each class to an incremental integer\n",
    "        if features[name]['type'] == 'ordinal':\n",
    "            df[name] = df[name].map({feat: i for i, feat in enumerate(features[name]['classes'])})\n",
    "        # one hot encode the categorical features\n",
    "        elif features[name]['type'] == 'categorical':\n",
    "            df = df.assign(**pd.get_dummies(df[name], prefix=name))\n",
    "            df = df.drop(columns=name)\n",
    "        # normalize the numerical data\n",
    "        elif features[name]['type'] == 'numerical':\n",
    "            continue\n",
    "            if 'max' in features[name] and features[name]['max'] is not None:\n",
    "                max_value = features[name]['max']\n",
    "                if max_value < 1: max_value = df[name].quantile(max_value)\n",
    "                df[name] = df[name] / max_value\n",
    "        else:\n",
    "            raise Exception(\"Unknown data type\", features[name]['type'])\n",
    "        \n",
    "    return df"
   ]
  },
  {
   "cell_type": "code",
   "execution_count": 7,
   "id": "de6951cc",
   "metadata": {},
   "outputs": [],
   "source": [
    "def get_preprocessing_model(df:pd.DataFrame, features:dict, inputs:dict) -> tf.keras.Model:\n",
    "    \"\"\"\n",
    "    Initialize the preprocessing model, which take the raw features as input\n",
    "    and return a float tensor that fit the predictive model\n",
    "\n",
    "    Args:\n",
    "        df (pd.DataFrame): dataset as padas DataFrame\n",
    "        features (dict): features specification\n",
    "        inputs (dict): input specs for the tf.Model\n",
    "\n",
    "    Raises:\n",
    "        Exception: unknown feature type\n",
    "\n",
    "    Returns:\n",
    "        tf.keras.Model: model for the input preprocessing\n",
    "    \"\"\"\n",
    "    \n",
    "    preprocessed_inputs = []\n",
    "    for name, value in inputs.items():\n",
    "        # map each class to an incremental integer\n",
    "        if features[name]['type'] == 'ordinal':\n",
    "            layer = tf.keras.layers.StringLookup(vocabulary=features[name]['classes'])\n",
    "            prep_val = layer(value)\n",
    "        # one hot encode the categorical features\n",
    "        elif features[name]['type'] == 'categorical':\n",
    "            layer = tf.keras.layers.StringLookup(vocabulary=features[name]['classes'], output_mode='one_hot')\n",
    "            prep_val = layer(value)\n",
    "        # normalize the numerical data\n",
    "        elif features[name]['type'] == 'numerical':\n",
    "            if 'max' in features[name]:\n",
    "                max_value = features[name]['max']\n",
    "                if max_value < 1: max_value = df[name].quantile(max_value)\n",
    "                prep_val = value / max_value\n",
    "            else:\n",
    "                prep_val = value\n",
    "        else:\n",
    "            raise Exception(\"Unknown data type\", features[name]['type'])\n",
    "        \n",
    "        prep_val = tf.cast(prep_val, tf.float32)\n",
    "        preprocessed_inputs.append(prep_val)\n",
    "    \n",
    "    preprocessing_outputs = tf.keras.layers.Concatenate()(preprocessed_inputs)\n",
    "    preprocessing_model = tf.keras.Model(inputs, preprocessing_outputs, name=\"preprocessing_model\")\n",
    "\n",
    "    return preprocessing_model"
   ]
  },
  {
   "cell_type": "code",
   "execution_count": 7,
   "id": "e3536056",
   "metadata": {},
   "outputs": [],
   "source": [
    "def get_model(df:pd.DataFrame, features:dict, hidden_units:list, act_function:str) -> tf.keras.Model:\n",
    "    \"\"\"\n",
    "    Initialize the neural network\n",
    "\n",
    "    Args:\n",
    "        df (pd.DataFrame): dataset as padas DataFrame\n",
    "        features (dict): features specification\n",
    "\n",
    "    Returns:\n",
    "        tf.keras.Model: predictive model\n",
    "    \"\"\"\n",
    "    inputs = get_input_spec(df)\n",
    "    preprocessing_model = get_preprocessing_model(df, features, inputs)\n",
    "\n",
    "    layers = []\n",
    "    for units in hidden_units:\n",
    "        layers.append(tf.keras.layers.Dense(units, activation=act_function))\n",
    "    layers.append(tf.keras.layers.Dense(1))\n",
    "    predictive_model = tf.keras.Sequential(layers, name=\"predictive_model\")\n",
    "\n",
    "    output = preprocessing_model(inputs)\n",
    "    output = predictive_model(output)\n",
    "\n",
    "    model = tf.keras.Model(inputs, output)\n",
    "    return model"
   ]
  },
  {
   "cell_type": "markdown",
   "id": "eb7c6f3d",
   "metadata": {},
   "source": [
    "#### XGBoost"
   ]
  },
  {
   "cell_type": "code",
   "execution_count": 6,
   "id": "6ce8ae6b",
   "metadata": {},
   "outputs": [],
   "source": [
    "def plot_roc_curve(y_true, y_proba, savefig=None):\n",
    "    plt.figure()\n",
    "    fpr, tpr, _ = roc_curve(y_true, y_proba)\n",
    "    roc_display = RocCurveDisplay(fpr=fpr, tpr=tpr).plot()\n",
    "    roc_display.figure_.set_size_inches(5,5)\n",
    "    plt.plot([0, 1], [0, 1], '--k')\n",
    "    if savefig: plt.savefig(savefig)\n",
    "    plt.show()\n",
    "    \n",
    "def plot_heatmap(y_true, y_pred, savefig=None):\n",
    "    plt.figure()\n",
    "    conf_matrix = confusion_matrix(y_true, y_pred, normalize='true')\n",
    "    hm = sns.heatmap(conf_matrix, annot=True, fmt=\".2f\", cmap=sns.cm.rocket_r)\n",
    "    hm.set(xlabel='Prediction', ylabel='Ground truth')\n",
    "    hm.set(xticklabels=features['y']['classes'], yticklabels=features['y']['classes'])\n",
    "    if savefig: plt.savefig(savefig)\n",
    "    plt.show()"
   ]
  },
  {
   "cell_type": "code",
   "execution_count": 7,
   "id": "4f370d52",
   "metadata": {},
   "outputs": [],
   "source": [
    "### SINGLE RUN! ###\n",
    "from pathlib import Path\n",
    "\n",
    "def run(config):\n",
    "\n",
    "    df, features = load_df('/home/stefano/Projects/Fastweb/data/bank-dataset.csv', '/home/stefano/Projects/Fastweb/data/features.yaml', debug=False)\n",
    "    df = preprocess_data(df, features)\n",
    "    train_df, test_df = train_test_split(df, test_size=.2, stratify=df.y)\n",
    "    train_df = midsampling(train_df, debug=False)\n",
    "\n",
    "    model = XGBClassifier(use_label_encoder=False, \n",
    "                          eval_metric='auc',\n",
    "                          max_depth=int(config['max_depth']), \n",
    "                          n_estimators=int(config['n_estimators']),\n",
    "                          eta=config['eta'], \n",
    "                          subsample=config['subsample'], \n",
    "                          colsample_bytree=config['colsample_bytree'],\n",
    "                          min_child_weight=config['min_child_weight']\n",
    "                          )\n",
    "    model.fit(train_df.drop(columns='y'), train_df.y)\n",
    "\n",
    "    y_proba = model.predict(test_df.drop(columns='y'), output_margin=True)\n",
    "    y_pred = model.predict(test_df.drop(columns='y'))\n",
    "    \n",
    "    AUC = roc_auc_score(test_df.y, y_proba)\n",
    "    scores = classification_report(test_df.y, y_pred, digits=3, target_names=features['y']['classes'], output_dict=True)\n",
    "\n",
    "    in_ray = True\n",
    "    if in_ray:\n",
    "        return {\"loss\":-AUC, \"status\": STATUS_OK}\n",
    "        tune.session.report({\"AUC\": AUC, \"done\": True})\n",
    "    else:\n",
    "        print(classification_report(test_df.y, y_pred, digits=3, target_names=features['y']['classes']))\n",
    "        print(f\"AUC {AUC:3f}\")\n",
    "        plot_roc_curve(test_df.y, y_proba)\n",
    "        plot_heatmap(test_df.y, y_pred)\n",
    "    "
   ]
  },
  {
   "cell_type": "code",
   "execution_count": 375,
   "id": "8defcddf",
   "metadata": {},
   "outputs": [
    {
     "name": "stdout",
     "output_type": "stream",
     "text": [
      "Dropped 193 (0.4%) samples\n",
      "Dropped 48 (1.5%) positive samples\n",
      "Unbalance ds (no:31824, yes:2499) → Resampled ds (no:17161, yes:17161)\n"
     ]
    },
    {
     "data": {
      "text/plain": [
       "{'fit_time': array([0.98282719, 0.9848218 , 1.1980083 , 0.83306694, 0.91609955,\n",
       "        0.8305285 , 0.8546412 ]),\n",
       " 'score_time': array([0.01203418, 0.01177263, 0.01142621, 0.01291323, 0.01097631,\n",
       "        0.01162887, 0.01220417]),\n",
       " 'test_roc_auc': array([0.99038089, 0.98907244, 0.98875363, 0.98745626, 0.98867077,\n",
       "        0.98910888, 0.99055434]),\n",
       " 'train_roc_auc': array([0.99704012, 0.99707775, 0.99719522, 0.99715926, 0.99692197,\n",
       "        0.99688591, 0.99706897]),\n",
       " 'test_f1': array([0.95535362, 0.95657323, 0.95334124, 0.94968553, 0.95283205,\n",
       "        0.95166994, 0.95853081]),\n",
       " 'train_f1': array([0.97576629, 0.97493593, 0.97417958, 0.97478432, 0.97400347,\n",
       "        0.97259363, 0.97498918])}"
      ]
     },
     "execution_count": 375,
     "metadata": {},
     "output_type": "execute_result"
    }
   ],
   "source": [
    "## SCORING CROSS VALIDATION\n",
    "\n",
    "df, features = load_df(debug=True)\n",
    "df = preprocess_data(df, features)\n",
    "train_df, test_df = train_test_split(df, test_size=.2, stratify=df.y)\n",
    "train_df = midsampling(train_df, debug=True)\n",
    "\n",
    "model = XGBClassifier(use_label_encoder=False, eval_metric='auc', max_depth=23, n_estimators=30,\n",
    "                      eta=0.05, subsample=0.5, colsample_bytree=0.5)\n",
    "\n",
    "scores = cross_validate(model, train_df.drop(columns='y'), train_df.y, scoring=['roc_auc', 'f1'], cv=7, return_train_score=True)\n",
    "scores"
   ]
  },
  {
   "cell_type": "code",
   "execution_count": 373,
   "id": "57565ad4",
   "metadata": {},
   "outputs": [
    {
     "name": "stdout",
     "output_type": "stream",
     "text": [
      "Dropped 193 (0.4%) samples\n",
      "Dropped 48 (1.5%) positive samples\n"
     ]
    },
    {
     "data": {
      "image/png": "[encoded data removed]",
      "text/plain": [
       "<Figure size 432x288 with 1 Axes>"
      ]
     },
     "metadata": {
      "needs_background": "light"
     },
     "output_type": "display_data"
    }
   ],
   "source": [
    "df, features = load_df(debug=True)\n",
    "df = preprocess_data(df, features)\n",
    "skf = StratifiedKFold(n_splits=10, shuffle=True, random_state=RND_SEED)\n",
    "\n",
    "for i, (train_ids, test_ids) in enumerate(skf.split(df.drop(columns='y'), df.y)):\n",
    "    train_df, test_df = df.iloc[train_ids], df.iloc[test_ids]\n",
    "    model = XGBClassifier(use_label_encoder=False, eval_metric='auc', max_depth=23, n_estimators=30,\n",
    "                          eta=0.05, subsample=0.5, colsample_bytree=0.5)\n",
    "    model.fit(train_df.drop(columns='y'), train_df.y)\n",
    "    \n",
    "    y_proba = model.predict(test_df.drop(columns='y'), output_margin=True)\n",
    "    fpr, tpr, _ = roc_curve(test_df.y, y_proba)\n",
    "    res = {'FPR':fpr, 'TPR':tpr}\n",
    "    sns.lineplot(data=res, x=\"FPR\", y=\"TPR\")"
   ]
  },
  {
   "cell_type": "code",
   "execution_count": 8,
   "id": "a5324116",
   "metadata": {},
   "outputs": [
    {
     "name": "stdout",
     "output_type": "stream",
     "text": [
      "100%|██████████| 100/100 [02:24<00:00,  1.44s/trial, best loss: -0.9256452488687783]\n"
     ]
    },
    {
     "data": {
      "text/plain": [
       "\"algo_hyperopt = HyperOptSearch(config, metric='AUC', mode='max', n_initial_points=10)\\nscheduler_asha = ASHAScheduler(\\n    time_attr='training_iteration',\\n    metric='AUC', mode='max',\\n    max_t=60,\\n    grace_period=7,\\n    reduction_factor=4,\\n)\\n\\nanalysis = tune.run(\\n    run,\\n    metric='AUC', mode='max',\\n    #scheduler=scheduler_asha, search_alg=algo_hyperopt,\\n    config=config,\\n    local_dir='./results',\\n    trial_name_creator=lambda trial: trial.trainable_name + '_' + trial.trial_id,\\n    resources_per_trial={'gpu': 1},\\n    num_samples = 2\\n    )\\n\""
      ]
     },
     "execution_count": 8,
     "metadata": {},
     "output_type": "execute_result"
    }
   ],
   "source": [
    "from hyperopt import STATUS_OK, Trials, fmin, hp, tpe\n",
    "\n",
    "config = {\n",
    "        \"eval_metric\": [\"auc\"],\n",
    "        \"max_depth\": hp.quniform('max_depth', 1, 30, 1),\n",
    "        'gamma': hp.uniform ('gamma', 1,9),\n",
    "        \"n_estimators\": hp.quniform('n_estimators', 1, 30, 1),\n",
    "        \"subsample\": hp.uniform('subsample', 0.5, 1.0),\n",
    "        \"colsample_bytree\": hp.uniform('colsample_bytree', 0.5, 1.0),\n",
    "        'min_child_weight' : hp.quniform('min_child_weight', 0, 10, 1),\n",
    "        \"eta\": hp.loguniform('eta', 1e-4, 1e-1)\n",
    "    }\n",
    "\n",
    "trials = Trials()\n",
    "\n",
    "best_hyperparams = fmin(fn = run,\n",
    "                        space = config,\n",
    "                        algo = tpe.suggest,\n",
    "                        max_evals = 100,\n",
    "                        trials = trials,\n",
    "                        verbose=1)\n",
    "\n",
    "\n",
    "\n",
    "\n",
    "'''algo_hyperopt = HyperOptSearch(config, metric='AUC', mode='max', n_initial_points=10)\n",
    "scheduler_asha = ASHAScheduler(\n",
    "    time_attr='training_iteration',\n",
    "    metric='AUC', mode='max',\n",
    "    max_t=60,\n",
    "    grace_period=7,\n",
    "    reduction_factor=4,\n",
    ")\n",
    "\n",
    "analysis = tune.run(\n",
    "    run,\n",
    "    metric='AUC', mode='max',\n",
    "    #scheduler=scheduler_asha, search_alg=algo_hyperopt,\n",
    "    config=config,\n",
    "    local_dir='./results',\n",
    "    trial_name_creator=lambda trial: trial.trainable_name + '_' + trial.trial_id,\n",
    "    resources_per_trial={'gpu': 1},\n",
    "    num_samples = 2\n",
    "    )\n",
    "'''"
   ]
  },
  {
   "cell_type": "markdown",
   "id": "75c439d3",
   "metadata": {},
   "source": [
    "## Training"
   ]
  },
  {
   "cell_type": "code",
   "execution_count": 18,
   "id": "40d41b64",
   "metadata": {},
   "outputs": [],
   "source": [
    "## HYPER-PARAMETERS\n",
    "batch_size = 100\n",
    "act_function = 'tanh'\n",
    "hidden_units = [512, 256, 128, 64, 32]\n",
    "optimizer = 'nadam'\n",
    "\n",
    "#loss_function = BinaryFocalLoss(gamma=4)\n",
    "loss_function = \"binary_crossentropy\"\n",
    "\n",
    "metrics = ['accuracy',\n",
    "           tf.keras.metrics.Precision(),\n",
    "           tf.keras.metrics.Recall()]\n",
    "\n",
    "RND_SEED = 42\n",
    "debug = True"
   ]
  },
  {
   "cell_type": "code",
   "execution_count": 15,
   "id": "dc8b4a3b",
   "metadata": {},
   "outputs": [
    {
     "name": "stdout",
     "output_type": "stream",
     "text": [
      "Dropped 4153 (9.6%) samples\n",
      "Train samples: 36944, Test samples: 2000\n"
     ]
    }
   ],
   "source": [
    "# Load the dataset\n",
    "df, features = load_df(debug=debug)\n",
    "#df = midsampling(df, debug)\n",
    "train_ds, test_ds = get_train_test_dataset(df, test_size=2000, debug=debug)\n",
    "\n",
    "train_ds = train_ds.batch(batch_size)\n",
    "test_ds = test_ds.batch(batch_size)"
   ]
  },
  {
   "cell_type": "code",
   "execution_count": 19,
   "id": "294b96de",
   "metadata": {},
   "outputs": [],
   "source": [
    "# Initialize the model\n",
    "#tf.keras.backend.clear_session()\n",
    "model = get_model(df, features, hidden_units, act_function)\n",
    "\n",
    "model.compile(optimizer=optimizer, \n",
    "              loss=loss_function,\n",
    "              metrics=metrics)"
   ]
  },
  {
   "cell_type": "code",
   "execution_count": 20,
   "id": "3af3c447",
   "metadata": {},
   "outputs": [
    {
     "name": "stdout",
     "output_type": "stream",
     "text": [
      "Epoch 1/100\n",
      "370/370 [==============================] - 5s 9ms/step - loss: 0.9631 - accuracy: 0.9359 - precision_2: 0.0278 - recall_2: 8.6957e-04 - val_loss: 1.0103 - val_accuracy: 0.9345 - val_precision_2: 0.0000e+00 - val_recall_2: 0.0000e+00\n",
      "Epoch 2/100\n",
      "370/370 [==============================] - 3s 7ms/step - loss: 0.9603 - accuracy: 0.9377 - precision_2: 0.0000e+00 - recall_2: 0.0000e+00 - val_loss: 1.0103 - val_accuracy: 0.9345 - val_precision_2: 0.0000e+00 - val_recall_2: 0.0000e+00\n",
      "Epoch 3/100\n",
      "370/370 [==============================] - 2s 6ms/step - loss: 0.9603 - accuracy: 0.9377 - precision_2: 0.0000e+00 - recall_2: 0.0000e+00 - val_loss: 1.0103 - val_accuracy: 0.9345 - val_precision_2: 0.0000e+00 - val_recall_2: 0.0000e+00\n",
      "Epoch 4/100\n",
      "370/370 [==============================] - 2s 5ms/step - loss: 0.9603 - accuracy: 0.9377 - precision_2: 0.0000e+00 - recall_2: 0.0000e+00 - val_loss: 1.0103 - val_accuracy: 0.9345 - val_precision_2: 0.0000e+00 - val_recall_2: 0.0000e+00\n",
      "Epoch 5/100\n",
      "370/370 [==============================] - 2s 5ms/step - loss: 0.9603 - accuracy: 0.9377 - precision_2: 0.0000e+00 - recall_2: 0.0000e+00 - val_loss: 1.0103 - val_accuracy: 0.9345 - val_precision_2: 0.0000e+00 - val_recall_2: 0.0000e+00\n",
      "Epoch 6/100\n",
      "370/370 [==============================] - 2s 5ms/step - loss: 0.9603 - accuracy: 0.9377 - precision_2: 0.0000e+00 - recall_2: 0.0000e+00 - val_loss: 1.0103 - val_accuracy: 0.9345 - val_precision_2: 0.0000e+00 - val_recall_2: 0.0000e+00\n",
      "Epoch 7/100\n",
      "370/370 [==============================] - 2s 5ms/step - loss: 0.9603 - accuracy: 0.9377 - precision_2: 0.0000e+00 - recall_2: 0.0000e+00 - val_loss: 1.0103 - val_accuracy: 0.9345 - val_precision_2: 0.0000e+00 - val_recall_2: 0.0000e+00\n",
      "Epoch 8/100\n",
      "370/370 [==============================] - 2s 5ms/step - loss: 0.9603 - accuracy: 0.9377 - precision_2: 0.0000e+00 - recall_2: 0.0000e+00 - val_loss: 1.0103 - val_accuracy: 0.9345 - val_precision_2: 0.0000e+00 - val_recall_2: 0.0000e+00\n",
      "train done!\n"
     ]
    }
   ],
   "source": [
    "from datetime import datetime\n",
    "\n",
    "# Train the model\n",
    "log_dir = \"logs/\" + datetime.now().strftime(\"%m%d-%H%M%S\")\n",
    "callbacks = [\n",
    "    tf.keras.callbacks.EarlyStopping(patience=7, restore_best_weights=True),\n",
    "    tf.keras.callbacks.TensorBoard(log_dir=log_dir)\n",
    "]\n",
    "history = model.fit(train_ds, epochs=100, validation_data=test_ds, callbacks=callbacks)\n",
    "print(\"train done!\")"
   ]
  },
  {
   "cell_type": "code",
   "execution_count": null,
   "id": "2872bd66",
   "metadata": {},
   "outputs": [],
   "source": [
    "model.evaluate(test_ds)"
   ]
  },
  {
   "cell_type": "code",
   "execution_count": null,
   "id": "34ae992d",
   "metadata": {},
   "outputs": [],
   "source": []
  }
 ],
 "metadata": {
  "kernelspec": {
   "display_name": "Python 3.7.10 ('DSS2.10')",
   "language": "python",
   "name": "python3"
  },
  "language_info": {
   "codemirror_mode": {
    "name": "ipython",
    "version": 3
   },
   "file_extension": ".py",
   "mimetype": "text/x-python",
   "name": "python",
   "nbconvert_exporter": "python",
   "pygments_lexer": "ipython3",
   "version": "3.7.10"
  },
  "vscode": {
   "interpreter": {
    "hash": "36f7d69ef84ec5cb78743e4eea0bd660bae13cdc2d9a04d858d23d1287c2b0cb"
   }
  }
 },
 "nbformat": 4,
 "nbformat_minor": 5
}
